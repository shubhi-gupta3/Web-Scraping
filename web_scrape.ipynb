{
 "cells": [
  {
   "cell_type": "markdown",
   "metadata": {},
   "source": [
    "## Importing libraries"
   ]
  },
  {
   "cell_type": "code",
   "execution_count": 1,
   "metadata": {},
   "outputs": [],
   "source": [
    "from bs4 import BeautifulSoup as soup\n",
    "from urllib.request import urlopen as uReq"
   ]
  },
  {
   "cell_type": "code",
   "execution_count": 2,
   "metadata": {},
   "outputs": [],
   "source": [
    "my_url='https://www.flipkart.com/search?q=iphone&otracker=search&otracker1=search&marketplace=FLIPKART&as-show=on&as=off&as-pos=0&as-type=HISTORY'"
   ]
  },
  {
   "cell_type": "code",
   "execution_count": 3,
   "metadata": {},
   "outputs": [],
   "source": [
    "uClient=uReq(my_url)\n",
    "page_html=uClient.read()\n",
    "uClient.close()\n",
    "page_soup=soup(page_html,\"html.parser\")"
   ]
  },
  {
   "cell_type": "code",
   "execution_count": 4,
   "metadata": {},
   "outputs": [],
   "source": [
    "containers=page_soup.findAll(\"div\",{\"class\": \"_3liAhj\"})"
   ]
  },
  {
   "cell_type": "code",
   "execution_count": 5,
   "metadata": {},
   "outputs": [
    {
     "name": "stdout",
     "output_type": "stream",
     "text": [
      "40\n"
     ]
    }
   ],
   "source": [
    "print(len(containers))"
   ]
  },
  {
   "cell_type": "code",
   "execution_count": 6,
   "metadata": {},
   "outputs": [
    {
     "name": "stdout",
     "output_type": "stream",
     "text": [
      "<div class=\"_3liAhj\">\n",
      " <a class=\"Zhf2z-\" href=\"/apple-iphone-7-black-32-gb/p/itmen6daftcqwzeg?pid=MOBEMK62PN2HU7EE&amp;lid=LSTMOBEMK62PN2HU7EEINTGNU&amp;marketplace=FLIPKART&amp;srno=s_1_1&amp;otracker=search&amp;otracker1=search&amp;fm=organic&amp;iid=70203aae-fb37-4b91-aace-bbbbddbd6b84.MOBEMK62PN2HU7EE.SEARCH&amp;ssid=fw1v5174xc0000001577081365514&amp;qH=0b3f45b266a97d70\" rel=\"noopener noreferrer\" target=\"_blank\">\n",
      "  <div>\n",
      "   <div>\n",
      "    <div class=\"_3BTv9X\" style=\"height:280px;width:200px\">\n",
      "     <img alt=\"Apple iPhone 7 (Black, 32 GB)\" class=\"_1Nyybr\" src=\"//img1a.flixcart.com/www/linchpin/fk-cp-zion/img/placeholder_9951d0.svg\"/>\n",
      "    </div>\n",
      "   </div>\n",
      "  </div>\n",
      "  <div class=\"_3gDSOa _3iGnbq\">\n",
      "   <div class=\"DsQ2eg\">\n",
      "    <svg class=\"_2oLiqr\" height=\"16\" viewbox=\"0 0 20 16\" width=\"16\" xmlns=\"http://www.w3.org/2000/svg\">\n",
      "     <path class=\"_35Y7Yo\" d=\"M8.695 16.682C4.06 12.382 1 9.536 1 6.065 1 3.219 3.178 1 5.95 1c1.566 0 3.069.746 4.05 1.915C10.981 1.745 12.484 1 14.05 1 16.822 1 19 3.22 19 6.065c0 3.471-3.06 6.316-7.695 10.617L10 17.897l-1.305-1.215z\" fill=\"#2874F0\" fill-rule=\"evenodd\" opacity=\".9\" stroke=\"#FFF\">\n",
      "     </path>\n",
      "    </svg>\n",
      "   </div>\n",
      "  </div>\n",
      " </a>\n",
      " <a class=\"_2cLu-l\" href=\"/apple-iphone-7-black-32-gb/p/itmen6daftcqwzeg?pid=MOBEMK62PN2HU7EE&amp;lid=LSTMOBEMK62PN2HU7EEINTGNU&amp;marketplace=FLIPKART&amp;srno=s_1_1&amp;otracker=search&amp;otracker1=search&amp;fm=organic&amp;iid=70203aae-fb37-4b91-aace-bbbbddbd6b84.MOBEMK62PN2HU7EE.SEARCH&amp;ssid=fw1v5174xc0000001577081365514&amp;qH=0b3f45b266a97d70\" rel=\"noopener noreferrer\" target=\"_blank\" title=\"Apple iPhone 7 (Black, 32 GB)\">\n",
      "  Apple iPhone 7 (Black, 32 GB)\n",
      " </a>\n",
      " <div class=\"niH0FQ _36Fcw_\">\n",
      "  <span class=\"_2_KrJI\" id=\"productRating_LSTMOBEMK62PN2HU7EEINTGNU_MOBEMK62PN2HU7EE_\">\n",
      "   <div class=\"hGSR34\">\n",
      "    4.5\n",
      "    <img class=\"_2lQ_WZ\" src=\"data:image/svg+xml;base64,PHN2ZyB4bWxucz0iaHR0cDovL3d3dy53My5vcmcvMjAwMC9zdmciIHdpZHRoPSIxMyIgaGVpZ2h0PSIxMiI+PHBhdGggZmlsbD0iI0ZGRiIgZD0iTTYuNSA5LjQzOWwtMy42NzQgMi4yMy45NC00LjI2LTMuMjEtMi44ODMgNC4yNTQtLjQwNEw2LjUuMTEybDEuNjkgNC4wMSA0LjI1NC40MDQtMy4yMSAyLjg4Mi45NCA0LjI2eiIvPjwvc3ZnPg==\"/>\n",
      "   </div>\n",
      "  </span>\n",
      "  <span class=\"_38sUEc\">\n",
      "   (74,423)\n",
      "  </span>\n",
      " </div>\n",
      " <div class=\"_3LWrw9\">\n",
      "  <img height=\"21\" src=\"//img1a.flixcart.com/www/linchpin/fk-cp-zion/img/fa_8b4b59.png\"/>\n",
      " </div>\n",
      " <a class=\"_1Vfi6u\" href=\"/apple-iphone-7-black-32-gb/p/itmen6daftcqwzeg?pid=MOBEMK62PN2HU7EE&amp;lid=LSTMOBEMK62PN2HU7EEINTGNU&amp;marketplace=FLIPKART&amp;srno=s_1_1&amp;otracker=search&amp;otracker1=search&amp;fm=organic&amp;iid=70203aae-fb37-4b91-aace-bbbbddbd6b84.MOBEMK62PN2HU7EE.SEARCH&amp;ssid=fw1v5174xc0000001577081365514&amp;qH=0b3f45b266a97d70\" rel=\"noopener noreferrer\" target=\"_blank\">\n",
      "  <div class=\"_1uv9Cb\">\n",
      "   <div class=\"_1vC4OE\">\n",
      "    ₹24,999\n",
      "   </div>\n",
      "   <div class=\"_3auQ3N\">\n",
      "    ₹\n",
      "    <!-- -->\n",
      "    29,900\n",
      "   </div>\n",
      "   <div class=\"VGWI6T\">\n",
      "    <span>\n",
      "     16% off\n",
      "    </span>\n",
      "   </div>\n",
      "  </div>\n",
      " </a>\n",
      " <div class=\"_2nE8_R\">\n",
      "  <div class=\"_3_G5Wj\" style=\"color:#000000;font-size:14px;font-family:inherit;font-weight:normal\">\n",
      "   Upto\n",
      "  </div>\n",
      "  <div class=\"_3_G5Wj\" style=\"color:#000000;font-size:14px;font-family:inherit;font-weight:bold\">\n",
      "   ₹11,850\n",
      "  </div>\n",
      "  <div class=\"_3_G5Wj\" style=\"color:#000000;font-size:14px;font-family:inherit;font-weight:normal\">\n",
      "   Off on Exchange\n",
      "  </div>\n",
      " </div>\n",
      " <div class=\"_3ighFh\">\n",
      "  <div class=\"_34CFgI\">\n",
      "   <div class=\"_1O_CiZ\">\n",
      "    <span class=\"_1iHA1p\">\n",
      "     <div class=\"_2kFyHg\">\n",
      "      <label>\n",
      "       <input class=\"_3uUUD5\" readonly=\"\" type=\"checkbox\"/>\n",
      "       <div class=\"_1p7h2j\">\n",
      "       </div>\n",
      "      </label>\n",
      "     </div>\n",
      "    </span>\n",
      "    <label class=\"_10TB-Q\">\n",
      "     <span>\n",
      "      Add to Compare\n",
      "     </span>\n",
      "    </label>\n",
      "   </div>\n",
      "  </div>\n",
      " </div>\n",
      "</div>\n"
     ]
    }
   ],
   "source": [
    "print(soup.prettify(containers[0]))"
   ]
  },
  {
   "cell_type": "code",
   "execution_count": 7,
   "metadata": {},
   "outputs": [
    {
     "name": "stdout",
     "output_type": "stream",
     "text": [
      "Apple iPhone 7 (Black, 32 GB)\n"
     ]
    }
   ],
   "source": [
    "container=containers[0]\n",
    "print(container.div.img[\"alt\"])"
   ]
  },
  {
   "cell_type": "code",
   "execution_count": 8,
   "metadata": {},
   "outputs": [
    {
     "name": "stdout",
     "output_type": "stream",
     "text": [
      "₹24,999\n"
     ]
    }
   ],
   "source": [
    "price=container.findAll(\"div\",{\"class\":\"_1vC4OE\"})\n",
    "print(price[0].text)"
   ]
  },
  {
   "cell_type": "code",
   "execution_count": 9,
   "metadata": {},
   "outputs": [
    {
     "name": "stdout",
     "output_type": "stream",
     "text": [
      "4.5(74,423)\n"
     ]
    }
   ],
   "source": [
    "rating=container.findAll(\"div\",{\"class\":\"niH0FQ _36Fcw_\"})\n",
    "print(rating[0].text)"
   ]
  },
  {
   "cell_type": "markdown",
   "metadata": {},
   "source": [
    "## Creating CSV file for scraped data"
   ]
  },
  {
   "cell_type": "code",
   "execution_count": 10,
   "metadata": {},
   "outputs": [
    {
     "name": "stdout",
     "output_type": "stream",
     "text": [
      "Product name: Apple iPhone 7 (Black, 32 GB)\n",
      "Price:₹24,999\n",
      "Ratings:4.5(74,423)\n",
      "Apple iPhone 7 (Black| 32 GB),₹24999,4.5\n",
      "\n",
      "Product name: Apple iPhone XS (Gold, 64 GB)\n",
      "Price:₹59,900\n",
      "Ratings:4.6(892)\n",
      "Apple iPhone XS (Gold| 64 GB),₹59900,4.6\n",
      "\n",
      "Product name: Apple iPhone 7 (Rose Gold, 32 GB)\n",
      "Price:₹24,999\n",
      "Ratings:4.5(74,423)\n",
      "Apple iPhone 7 (Rose Gold| 32 GB),₹24999,4.5\n",
      "\n",
      "Product name: Apple iPhone 7 (Gold, 32 GB)\n",
      "Price:₹24,999\n",
      "Ratings:4.5(74,423)\n",
      "Apple iPhone 7 (Gold| 32 GB),₹24999,4.5\n",
      "\n",
      "Product name: Apple iPhone 8 (Gold, 64 GB)\n",
      "Price:₹33,999\n",
      "Ratings:4.5(7,114)\n",
      "Apple iPhone 8 (Gold| 64 GB),₹33999,4.5\n",
      "\n",
      "Product name: Apple iPhone 8 (Space Grey, 64 GB)\n",
      "Price:₹33,999\n",
      "Ratings:4.5(7,114)\n",
      "Apple iPhone 8 (Space Grey| 64 GB),₹33999,4.5\n",
      "\n",
      "Product name: Apple iPhone 8 (Silver, 64 GB)\n",
      "Price:₹33,999\n",
      "Ratings:4.5(7,114)\n",
      "Apple iPhone 8 (Silver| 64 GB),₹33999,4.5\n",
      "\n",
      "Product name: Apple iPhone 11 (Black, 128 GB)\n",
      "Price:₹69,900\n",
      "Ratings:4.7(5,130)\n",
      "Apple iPhone 11 (Black| 128 GB),₹69900,4.7\n",
      "\n",
      "Product name: Apple iPhone XR (Black, 64 GB)\n",
      "Price:₹49,900\n",
      "Ratings:4.6(6,895)\n",
      "Apple iPhone XR (Black| 64 GB),₹49900,4.6\n",
      "\n",
      "Product name: Apple iPhone 11 (White, 128 GB)\n",
      "Price:₹69,900\n",
      "Ratings:4.7(5,130)\n",
      "Apple iPhone 11 (White| 128 GB),₹69900,4.7\n",
      "\n",
      "Product name: Apple iPhone 11 (White, 64 GB)\n",
      "Price:₹64,900\n",
      "Ratings:4.7(5,130)\n",
      "Apple iPhone 11 (White| 64 GB),₹64900,4.7\n",
      "\n",
      "Product name: Apple iPhone 6s (Space Grey, 32 GB)\n",
      "Price:₹23,999\n",
      "Ratings:4.5(89,790)\n",
      "Apple iPhone 6s (Space Grey| 32 GB),₹23999,4.5\n",
      "\n",
      "Product name: Apple iPhone 11 (Black, 64 GB)\n",
      "Price:₹64,900\n",
      "Ratings:4.7(5,130)\n",
      "Apple iPhone 11 (Black| 64 GB),₹64900,4.7\n",
      "\n",
      "Product name: Apple iPhone XR (White, 64 GB)\n",
      "Price:₹49,900\n",
      "Ratings:4.6(6,895)\n",
      "Apple iPhone XR (White| 64 GB),₹49900,4.6\n",
      "\n",
      "Product name: Apple iPhone 11 (Purple, 64 GB)\n",
      "Price:₹64,900\n",
      "Ratings:4.7(5,130)\n",
      "Apple iPhone 11 (Purple| 64 GB),₹64900,4.7\n",
      "\n",
      "Product name: Apple iPhone XR ((PRODUCT)RED, 64 GB)\n",
      "Price:₹49,900\n",
      "Ratings:4.6(6,895)\n",
      "Apple iPhone XR ((PRODUCT)RED| 64 GB),₹49900,4.6\n",
      "\n",
      "Product name: Apple iPhone XR (Black, 128 GB)\n",
      "Price:₹54,900\n",
      "Ratings:4.6(6,895)\n",
      "Apple iPhone XR (Black| 128 GB),₹54900,4.6\n",
      "\n",
      "Product name: Apple iPhone XR (White, 128 GB)\n",
      "Price:₹54,900\n",
      "Ratings:4.6(6,895)\n",
      "Apple iPhone XR (White| 128 GB),₹54900,4.6\n",
      "\n",
      "Product name: Apple iPhone 11 (Red, 64 GB)\n",
      "Price:₹64,900\n",
      "Ratings:4.7(5,130)\n",
      "Apple iPhone 11 (Red| 64 GB),₹64900,4.7\n",
      "\n",
      "Product name: Apple iPhone 6s (Silver, 32 GB)\n",
      "Price:₹24,499\n",
      "Ratings:4.5(89,790)\n",
      "Apple iPhone 6s (Silver| 32 GB),₹24499,4.5\n",
      "\n",
      "Product name: Apple iPhone XR (Coral, 64 GB)\n",
      "Price:₹49,900\n",
      "Ratings:4.6(6,895)\n",
      "Apple iPhone XR (Coral| 64 GB),₹49900,4.6\n",
      "\n",
      "Product name: Apple iPhone 11 (Red, 128 GB)\n",
      "Price:₹69,900\n",
      "Ratings:4.7(5,130)\n",
      "Apple iPhone 11 (Red| 128 GB),₹69900,4.7\n",
      "\n",
      "Product name: Apple iPhone 6s (Rose Gold, 32 GB)\n",
      "Price:₹24,499\n",
      "Ratings:4.5(89,790)\n",
      "Apple iPhone 6s (Rose Gold| 32 GB),₹24499,4.5\n",
      "\n",
      "Product name: Apple iPhone XR (Blue, 64 GB)\n",
      "Price:₹49,900\n",
      "Ratings:4.6(6,895)\n",
      "Apple iPhone XR (Blue| 64 GB),₹49900,4.6\n",
      "\n",
      "Product name: Apple iPhone 11 Pro (Midnight Green, 64 GB)\n",
      "Price:₹99,900\n",
      "Ratings:4.7(777)\n",
      "Apple iPhone 11 Pro (Midnight Green| 64 GB),₹99900,4.7\n",
      "\n",
      "Product name: Apple iPhone 11 Pro Max (Midnight Green, 256 GB)\n",
      "Price:₹1,23,900\n",
      "Ratings:4.7(577)\n",
      "Apple iPhone 11 Pro Max (Midnight Green| 256 GB),₹123900,4.7\n",
      "\n",
      "Product name: Apple iPhone 11 Pro (Midnight Green, 256 GB)\n",
      "Price:₹1,13,900\n",
      "Ratings:4.7(777)\n",
      "Apple iPhone 11 Pro (Midnight Green| 256 GB),₹113900,4.7\n",
      "\n",
      "Product name: Apple iPhone 7 (Rose Gold, 256 GB)\n",
      "Price:₹44,990\n",
      "Ratings:4.5(74,423)\n",
      "Apple iPhone 7 (Rose Gold| 256 GB),₹44990,4.5\n",
      "\n",
      "Product name: Apple iPhone 11 Pro (Gold, 64 GB)\n",
      "Price:₹99,900\n",
      "Ratings:4.7(777)\n",
      "Apple iPhone 11 Pro (Gold| 64 GB),₹99900,4.7\n",
      "\n",
      "Product name: Apple iPhone 11 Pro Max (Space Grey, 64 GB)\n",
      "Price:₹1,09,900\n",
      "Ratings:4.7(577)\n",
      "Apple iPhone 11 Pro Max (Space Grey| 64 GB),₹109900,4.7\n",
      "\n",
      "Product name: Apple iPhone XS Max (Space Grey, 64 GB)\n",
      "Price:₹74,999\n",
      "Ratings:4.6(1,236)\n",
      "Apple iPhone XS Max (Space Grey| 64 GB),₹74999,4.6\n",
      "\n",
      "Product name: Apple iPhone XR ((PRODUCT)RED, 128 GB)\n",
      "Price:₹57,750\n",
      "Ratings:4.6(6,895)\n",
      "Apple iPhone XR ((PRODUCT)RED| 128 GB),₹57750,4.6\n",
      "\n",
      "Product name: Apple iPhone 8 Plus (Silver, 64 GB)\n",
      "Price:₹54,900\n",
      "Ratings:4.6(3,251)\n",
      "Apple iPhone 8 Plus (Silver| 64 GB),₹54900,4.6\n",
      "\n",
      "Product name: Apple iPhone 6 (Gold, 32 GB)\n",
      "Price:₹24,899\n",
      "Ratings:4.4(1,43,287)\n",
      "Apple iPhone 6 (Gold| 32 GB),₹24899,4.4\n",
      "\n",
      "Product name: Apple iPhone 11 Pro Max (Gold, 64 GB)\n",
      "Price:₹1,09,900\n",
      "Ratings:4.7(577)\n",
      "Apple iPhone 11 Pro Max (Gold| 64 GB),₹109900,4.7\n",
      "\n",
      "Product name: Apple iPhone XS Max (Gold, 256 GB)\n",
      "Price:₹89,999\n",
      "Ratings:4.6(1,236)\n",
      "Apple iPhone XS Max (Gold| 256 GB),₹89999,4.6\n",
      "\n",
      "Product name: Apple iPhone 11 Pro (Space Grey, 256 GB)\n",
      "Price:₹1,13,900\n",
      "Ratings:4.7(777)\n",
      "Apple iPhone 11 Pro (Space Grey| 256 GB),₹113900,4.7\n",
      "\n",
      "Product name: Apple iPhone 8 Plus (Space Grey, 64 GB)\n",
      "Price:₹54,499\n",
      "Ratings:4.6(3,251)\n",
      "Apple iPhone 8 Plus (Space Grey| 64 GB),₹54499,4.6\n",
      "\n",
      "Product name: Apple iPhone 8 (Silver, 256 GB)\n",
      "Price:₹54,900\n",
      "Ratings:4.5(7,114)\n",
      "Apple iPhone 8 (Silver| 256 GB),₹54900,4.5\n",
      "\n",
      "Product name: Apple iPhone XS Max (Space Grey, 256 GB)\n",
      "Price:₹89,999\n",
      "Ratings:4.6(1,236)\n",
      "Apple iPhone XS Max (Space Grey| 256 GB),₹89999,4.6\n",
      "\n"
     ]
    }
   ],
   "source": [
    "filename=\"products.csv\"\n",
    "f=open(filename,\"w\")\n",
    "headers=\"Product_Name,Pricing,Rating\\n\"\n",
    "f.write(headers)\n",
    "for container in containers:\n",
    "    product_name=container.div.img[\"alt\"]\n",
    "    \n",
    "    price_container=container.findAll(\"div\",{\"class\":\"_1vC4OE\"})\n",
    "    price=price_container[0].text.strip() \n",
    "    \n",
    "    rating_container=container.findAll(\"div\",{\"class\":\"niH0FQ _36Fcw_\"})\n",
    "    rating=rating_container[0].text\n",
    "    print(\"Product name: \"+product_name)\n",
    "    print(\"Price:\"+price)\n",
    "    print(\"Ratings:\"+rating)\n",
    "    \n",
    "    trim_price=''.join(price.split(','))\n",
    "    final_price=trim_price\n",
    "    \n",
    "    split_rating=rating.split(\"(\")\n",
    "    final_rating=split_rating[0]\n",
    "    \n",
    "    print(product_name.replace(\",\",\"|\")+\",\"+final_price+\",\"+final_rating+\"\\n\")\n",
    "    f.write(product_name.replace(\",\",\"|\")+\",\"+final_price+\",\"+final_rating+\"\\n\")\n",
    "f.close()"
   ]
  },
  {
   "cell_type": "code",
   "execution_count": null,
   "metadata": {},
   "outputs": [],
   "source": []
  }
 ],
 "metadata": {
  "kernelspec": {
   "display_name": "Python 3",
   "language": "python",
   "name": "python3"
  },
  "language_info": {
   "codemirror_mode": {
    "name": "ipython",
    "version": 3
   },
   "file_extension": ".py",
   "mimetype": "text/x-python",
   "name": "python",
   "nbconvert_exporter": "python",
   "pygments_lexer": "ipython3",
   "version": "3.7.2"
  }
 },
 "nbformat": 4,
 "nbformat_minor": 2
}
